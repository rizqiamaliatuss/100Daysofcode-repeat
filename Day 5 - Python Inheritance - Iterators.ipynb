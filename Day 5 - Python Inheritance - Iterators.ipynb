{
 "cells": [
  {
   "cell_type": "markdown",
   "id": "a176c6e7",
   "metadata": {},
   "source": [
    "Inheritance = define class that inherits all methods and properties from another class"
   ]
  },
  {
   "cell_type": "markdown",
   "id": "d452eee0",
   "metadata": {},
   "source": [
    "## Parent Class"
   ]
  },
  {
   "cell_type": "code",
   "execution_count": 3,
   "id": "a63b2ceb",
   "metadata": {},
   "outputs": [
    {
     "name": "stdout",
     "output_type": "stream",
     "text": [
      "kiwi green\n"
     ]
    }
   ],
   "source": [
    "class fruits:\n",
    "    def __init__(self, name, color):\n",
    "        self.name  = name\n",
    "        self.color = color\n",
    "        \n",
    "    def printname(self):\n",
    "        print(self.name, self.color)\n",
    "        \n",
    "x = fruits(\"kiwi\", \"green\")\n",
    "x.printname()"
   ]
  },
  {
   "cell_type": "markdown",
   "id": "1fa13941",
   "metadata": {},
   "source": [
    "## Child Class"
   ]
  },
  {
   "cell_type": "code",
   "execution_count": 4,
   "id": "545358df",
   "metadata": {},
   "outputs": [],
   "source": [
    "class coba(fruits):\n",
    "    pass"
   ]
  },
  {
   "cell_type": "code",
   "execution_count": 5,
   "id": "37a42c20",
   "metadata": {},
   "outputs": [
    {
     "name": "stdout",
     "output_type": "stream",
     "text": [
      "apple red\n"
     ]
    }
   ],
   "source": [
    "y = coba('apple', 'red')\n",
    "y.printname()"
   ]
  },
  {
   "cell_type": "markdown",
   "id": "138b9d81",
   "metadata": {},
   "source": [
    "for example"
   ]
  },
  {
   "cell_type": "markdown",
   "id": "2cb218e3",
   "metadata": {},
   "source": [
    "Parent Class"
   ]
  },
  {
   "cell_type": "code",
   "execution_count": 12,
   "id": "191a92e6",
   "metadata": {},
   "outputs": [
    {
     "name": "stdout",
     "output_type": "stream",
     "text": [
      "John Doe\n"
     ]
    }
   ],
   "source": [
    "class Person:\n",
    "    def __init__(self, fname, lname):\n",
    "        self.firstname = fname\n",
    "        self.lastname = lname\n",
    "\n",
    "    def printname(self):\n",
    "        print(self.firstname, self.lastname)\n",
    "\n",
    "#Use the Person class to create an object, and then execute the printname method:\n",
    "\n",
    "x = Person(\"John\", \"Doe\")\n",
    "x.printname()"
   ]
  },
  {
   "cell_type": "markdown",
   "id": "5281ef4e",
   "metadata": {},
   "source": [
    "Child Class"
   ]
  },
  {
   "cell_type": "code",
   "execution_count": 10,
   "id": "6b636ecf",
   "metadata": {},
   "outputs": [],
   "source": [
    "class Student(Person):\n",
    "    def __init__(self, fname, lname, year):\n",
    "        super().__init__(fname, lname)\n",
    "        self.graduationyear = year\n",
    "\n",
    "    def welcome(self):\n",
    "        print(\"Welcome\", self.firstname, self.lastname, \"to the class of\", self.graduationyear)"
   ]
  },
  {
   "cell_type": "code",
   "execution_count": 14,
   "id": "c5a3b07f",
   "metadata": {},
   "outputs": [
    {
     "name": "stdout",
     "output_type": "stream",
     "text": [
      "Welcome Rizqi Amalia to the class of 2020\n"
     ]
    }
   ],
   "source": [
    "x = Student(\"Rizqi\", \"Amalia\", \"2020\")\n",
    "x.welcome()"
   ]
  },
  {
   "cell_type": "markdown",
   "id": "695e3a64",
   "metadata": {},
   "source": [
    "# ITERATOR"
   ]
  },
  {
   "cell_type": "markdown",
   "id": "c66f8c74",
   "metadata": {},
   "source": [
    "## Iterator vs Iterable"
   ]
  },
  {
   "cell_type": "code",
   "execution_count": 29,
   "id": "9bad2fb6",
   "metadata": {},
   "outputs": [],
   "source": [
    "mytuple = ('Apple', 'Berry', 'Cherry')\n"
   ]
  },
  {
   "cell_type": "code",
   "execution_count": 35,
   "id": "ea8f0368",
   "metadata": {},
   "outputs": [],
   "source": [
    "myit = iter(mytuple)"
   ]
  },
  {
   "cell_type": "code",
   "execution_count": 36,
   "id": "62c75cc1",
   "metadata": {},
   "outputs": [
    {
     "name": "stdout",
     "output_type": "stream",
     "text": [
      "Apple\n",
      "Berry\n",
      "Cherry\n"
     ]
    }
   ],
   "source": [
    "print(next(myit))\n",
    "print(next(myit))\n",
    "print(next(myit))"
   ]
  },
  {
   "cell_type": "code",
   "execution_count": 37,
   "id": "2991dfd0",
   "metadata": {},
   "outputs": [
    {
     "name": "stdout",
     "output_type": "stream",
     "text": [
      "Apple\n",
      "Berry\n",
      "Cherry\n"
     ]
    }
   ],
   "source": [
    "for x in mytuple:\n",
    "    print(x)"
   ]
  },
  {
   "cell_type": "code",
   "execution_count": 45,
   "id": "f0a074a1",
   "metadata": {},
   "outputs": [
    {
     "data": {
      "text/plain": [
       "<__main__.MyNumbers at 0x7fc40c388e48>"
      ]
     },
     "execution_count": 45,
     "metadata": {},
     "output_type": "execute_result"
    }
   ],
   "source": [
    "MyNumbers()"
   ]
  },
  {
   "cell_type": "code",
   "execution_count": 74,
   "id": "5853488a",
   "metadata": {},
   "outputs": [
    {
     "name": "stdout",
     "output_type": "stream",
     "text": [
      "1\n",
      "2\n",
      "3\n",
      "4\n",
      "5\n",
      "6\n",
      "7\n",
      "8\n",
      "9\n",
      "10\n",
      "11\n",
      "12\n",
      "13\n",
      "14\n",
      "15\n",
      "16\n",
      "17\n",
      "18\n",
      "19\n",
      "20\n"
     ]
    }
   ],
   "source": [
    "class MyBoom:\n",
    "    def __iter__(self):\n",
    "        self.a = 1\n",
    "        return self\n",
    "    \n",
    "    def __next__(self):\n",
    "        if self.a <= 20:\n",
    "            x = self.a\n",
    "            self.a += 1\n",
    "            return x\n",
    "        else:\n",
    "            raise StopIteration\n",
    "\n",
    "myclass = MyBoom()\n",
    "myiterr = iter(myclass)\n",
    "\n",
    "for x in myiterr:\n",
    "    print(x)"
   ]
  },
  {
   "cell_type": "code",
   "execution_count": 93,
   "id": "5d5c8b7b",
   "metadata": {},
   "outputs": [],
   "source": [
    "def myfunc():\n",
    "    x = 400\n",
    "    def myinnerfunc():\n",
    "        x = 200\n",
    "        print(x)\n",
    "    myinnerfunc()"
   ]
  },
  {
   "cell_type": "code",
   "execution_count": 94,
   "id": "2af442eb",
   "metadata": {},
   "outputs": [
    {
     "name": "stdout",
     "output_type": "stream",
     "text": [
      "200\n"
     ]
    }
   ],
   "source": [
    "myfunc()"
   ]
  },
  {
   "cell_type": "code",
   "execution_count": 95,
   "id": "184fc26e",
   "metadata": {},
   "outputs": [
    {
     "ename": "NameError",
     "evalue": "name 'myinnerfunc' is not defined",
     "output_type": "error",
     "traceback": [
      "\u001b[0;31m---------------------------------------------------------------------------\u001b[0m",
      "\u001b[0;31mNameError\u001b[0m                                 Traceback (most recent call last)",
      "\u001b[0;32m<ipython-input-95-892441cf9029>\u001b[0m in \u001b[0;36m<module>\u001b[0;34m\u001b[0m\n\u001b[0;32m----> 1\u001b[0;31m \u001b[0mmyinnerfunc\u001b[0m\u001b[0;34m(\u001b[0m\u001b[0;34m)\u001b[0m \u001b[0;31m# cant be execute because this function inside the function\u001b[0m\u001b[0;34m\u001b[0m\u001b[0;34m\u001b[0m\u001b[0m\n\u001b[0m",
      "\u001b[0;31mNameError\u001b[0m: name 'myinnerfunc' is not defined"
     ]
    }
   ],
   "source": [
    "myinnerfunc() # cant be execute because this function inside the function"
   ]
  },
  {
   "cell_type": "code",
   "execution_count": 97,
   "id": "926f0c1f",
   "metadata": {
    "scrolled": true
   },
   "outputs": [
    {
     "name": "stdout",
     "output_type": "stream",
     "text": [
      "400\n"
     ]
    }
   ],
   "source": [
    "    def myinnerfunc():\n",
    "        x = 400\n",
    "        print(x)\n",
    "    myinnerfunc()"
   ]
  },
  {
   "cell_type": "code",
   "execution_count": 111,
   "id": "11af1b57",
   "metadata": {},
   "outputs": [
    {
     "name": "stdout",
     "output_type": "stream",
     "text": [
      "200\n",
      "200\n"
     ]
    }
   ],
   "source": [
    "a = 200 # this is a variable gloabal, so everyone can use\n",
    "\n",
    "def myfunction():\n",
    "    print(a)\n",
    "    \n",
    "myfunction()\n",
    "\n",
    "print(a)"
   ]
  },
  {
   "cell_type": "code",
   "execution_count": 112,
   "id": "4b0806c3",
   "metadata": {},
   "outputs": [
    {
     "name": "stdout",
     "output_type": "stream",
     "text": [
      "200\n",
      "300\n"
     ]
    }
   ],
   "source": [
    "b = 300\n",
    "\n",
    "def myfunc():\n",
    "    b = 200\n",
    "    print(b)\n",
    "\n",
    "myfunc()\n",
    "\n",
    "print(b)"
   ]
  },
  {
   "cell_type": "markdown",
   "id": "dea473e7",
   "metadata": {},
   "source": [
    "look the difference between example a and b"
   ]
  },
  {
   "cell_type": "code",
   "execution_count": 117,
   "id": "38200611",
   "metadata": {},
   "outputs": [
    {
     "name": "stdout",
     "output_type": "stream",
     "text": [
      "300\n"
     ]
    }
   ],
   "source": [
    "# we can use \"global to define global variable in the local\"\n",
    "def myfunc():\n",
    "    global x\n",
    "    x = 300\n",
    "\n",
    "myfunc()\n",
    "\n",
    "print(x)"
   ]
  },
  {
   "cell_type": "code",
   "execution_count": null,
   "id": "7a48684c",
   "metadata": {},
   "outputs": [],
   "source": [
    "import "
   ]
  }
 ],
 "metadata": {
  "kernelspec": {
   "display_name": "Python 3",
   "language": "python",
   "name": "python3"
  },
  "language_info": {
   "codemirror_mode": {
    "name": "ipython",
    "version": 3
   },
   "file_extension": ".py",
   "mimetype": "text/x-python",
   "name": "python",
   "nbconvert_exporter": "python",
   "pygments_lexer": "ipython3",
   "version": "3.6.9"
  }
 },
 "nbformat": 4,
 "nbformat_minor": 5
}
