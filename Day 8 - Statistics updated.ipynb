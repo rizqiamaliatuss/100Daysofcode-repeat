{
 "cells": [
  {
   "cell_type": "markdown",
   "id": "f536a566",
   "metadata": {},
   "source": [
    "# MEAN - MEDIAN - MODE "
   ]
  },
  {
   "cell_type": "markdown",
   "id": "ee86eddf",
   "metadata": {},
   "source": [
    "### MEAN"
   ]
  },
  {
   "cell_type": "code",
   "execution_count": 3,
   "id": "09777f7a",
   "metadata": {},
   "outputs": [
    {
     "data": {
      "text/plain": [
       "81.75"
      ]
     },
     "execution_count": 3,
     "metadata": {},
     "output_type": "execute_result"
    }
   ],
   "source": [
    "meann = (90+80+70+60+80+90+100+80+99+97+95+40)/ 12\n",
    "meann"
   ]
  },
  {
   "cell_type": "code",
   "execution_count": 4,
   "id": "4d745039",
   "metadata": {},
   "outputs": [],
   "source": [
    "import numpy as np\n",
    "from scipy import stats"
   ]
  },
  {
   "cell_type": "code",
   "execution_count": 5,
   "id": "c448ed4f",
   "metadata": {},
   "outputs": [],
   "source": [
    "grade = [90,80,70,60,80,90,100,80,99,97,95,90]"
   ]
  },
  {
   "cell_type": "code",
   "execution_count": 6,
   "id": "571aeea8",
   "metadata": {},
   "outputs": [],
   "source": [
    "x = np.mean(grade)"
   ]
  },
  {
   "cell_type": "code",
   "execution_count": 7,
   "id": "fea5a1c2",
   "metadata": {},
   "outputs": [
    {
     "name": "stdout",
     "output_type": "stream",
     "text": [
      "85.91666666666667\n"
     ]
    }
   ],
   "source": [
    "print(x)"
   ]
  },
  {
   "cell_type": "markdown",
   "id": "aa6b76a7",
   "metadata": {},
   "source": [
    "### MEDIAN"
   ]
  },
  {
   "cell_type": "code",
   "execution_count": 8,
   "id": "0a2f2266",
   "metadata": {},
   "outputs": [
    {
     "name": "stdout",
     "output_type": "stream",
     "text": [
      "90.0\n"
     ]
    }
   ],
   "source": [
    "y = np.median(grade)\n",
    "print(y)"
   ]
  },
  {
   "cell_type": "markdown",
   "id": "902b69b9",
   "metadata": {},
   "source": [
    "### MODE"
   ]
  },
  {
   "cell_type": "code",
   "execution_count": 9,
   "id": "f8af5c5c",
   "metadata": {},
   "outputs": [
    {
     "name": "stdout",
     "output_type": "stream",
     "text": [
      "90.0\n"
     ]
    }
   ],
   "source": [
    "z = stats.mode(grade)\n",
    "print(y)"
   ]
  },
  {
   "cell_type": "markdown",
   "id": "6e3b965a",
   "metadata": {},
   "source": [
    "# STANDART DEVIATION"
   ]
  },
  {
   "cell_type": "code",
   "execution_count": 10,
   "id": "dae67515",
   "metadata": {},
   "outputs": [
    {
     "name": "stdout",
     "output_type": "stream",
     "text": [
      "85.91666666666667\n"
     ]
    }
   ],
   "source": [
    "c = np.std(grade)\n",
    "print(x)"
   ]
  },
  {
   "cell_type": "markdown",
   "id": "438e5761",
   "metadata": {},
   "source": [
    "### Variance"
   ]
  },
  {
   "cell_type": "code",
   "execution_count": 11,
   "id": "22a058be",
   "metadata": {},
   "outputs": [
    {
     "name": "stdout",
     "output_type": "stream",
     "text": [
      "85.91666666666667\n"
     ]
    }
   ],
   "source": [
    "d = np.var(grade)\n",
    "print(x)"
   ]
  },
  {
   "cell_type": "code",
   "execution_count": 16,
   "id": "1aaa031c",
   "metadata": {},
   "outputs": [],
   "source": [
    "age = [24, 28, 29, 27, 24, 26, 29]"
   ]
  },
  {
   "cell_type": "code",
   "execution_count": 19,
   "id": "f7bb35ec",
   "metadata": {},
   "outputs": [
    {
     "data": {
      "text/plain": [
       "1.979486637221574"
      ]
     },
     "execution_count": 19,
     "metadata": {},
     "output_type": "execute_result"
    }
   ],
   "source": [
    "std_age = np.std(age)\n",
    "std_age"
   ]
  },
  {
   "cell_type": "code",
   "execution_count": 20,
   "id": "6a4d5306",
   "metadata": {},
   "outputs": [
    {
     "name": "stdout",
     "output_type": "stream",
     "text": [
      "3.9183673469387754\n"
     ]
    }
   ],
   "source": [
    "var_age = np.var(age)\n",
    "print(var_age)"
   ]
  },
  {
   "cell_type": "code",
   "execution_count": 14,
   "id": "027049d4",
   "metadata": {},
   "outputs": [
    {
     "data": {
      "text/plain": [
       "26.714285714285715"
      ]
     },
     "execution_count": 14,
     "metadata": {},
     "output_type": "execute_result"
    }
   ],
   "source": [
    "mean = np.mean(age)\n",
    "mean"
   ]
  },
  {
   "cell_type": "code",
   "execution_count": 21,
   "id": "d47b7a6d",
   "metadata": {},
   "outputs": [
    {
     "name": "stdout",
     "output_type": "stream",
     "text": [
      "3.9183673469387754\n"
     ]
    }
   ],
   "source": [
    "# How Standart Deviation & variance looks like \n",
    "\n",
    "#difference from mean\n",
    "#then find the square\n",
    "\n",
    "angka_1 = (age[0] - mean)**2\n",
    "angka_2 = (age[1] - mean)**2\n",
    "angka_3 = (age[2] - mean)**2\n",
    "angka_4 = (age[3] - mean)**2\n",
    "angka_5 = (age[4] - mean)**2\n",
    "angka_6 = (age[5] - mean)**2\n",
    "angka_7 = (age[6] - mean)**2\n",
    "\n",
    "\n",
    "variance = (angka_1 + angka_2 + angka_3 + angka_4 + angka_5 + angka_6 + angka_7) / 7\n",
    "print(variance)"
   ]
  },
  {
   "cell_type": "code",
   "execution_count": 23,
   "id": "1baa69c0",
   "metadata": {},
   "outputs": [
    {
     "name": "stdout",
     "output_type": "stream",
     "text": [
      "1.979486637221574\n"
     ]
    }
   ],
   "source": [
    "import math \n",
    "\n",
    "standart_deviation = math.sqrt(variance)\n",
    "print(standart_deviation)"
   ]
  },
  {
   "cell_type": "markdown",
   "id": "4e088229",
   "metadata": {},
   "source": [
    "# PERCENTILES"
   ]
  },
  {
   "cell_type": "code",
   "execution_count": 26,
   "id": "8b4d78e3",
   "metadata": {},
   "outputs": [
    {
     "data": {
      "text/plain": [
       "28.5"
      ]
     },
     "execution_count": 26,
     "metadata": {},
     "output_type": "execute_result"
    }
   ],
   "source": [
    "percentile = np.percentile(age, 75)\n",
    "percentile # percentile here means 75% people are 28.5 (result) or younger "
   ]
  },
  {
   "cell_type": "code",
   "execution_count": null,
   "id": "d9607f30",
   "metadata": {},
   "outputs": [],
   "source": []
  }
 ],
 "metadata": {
  "kernelspec": {
   "display_name": "Python 3",
   "language": "python",
   "name": "python3"
  },
  "language_info": {
   "codemirror_mode": {
    "name": "ipython",
    "version": 3
   },
   "file_extension": ".py",
   "mimetype": "text/x-python",
   "name": "python",
   "nbconvert_exporter": "python",
   "pygments_lexer": "ipython3",
   "version": "3.6.9"
  }
 },
 "nbformat": 4,
 "nbformat_minor": 5
}
