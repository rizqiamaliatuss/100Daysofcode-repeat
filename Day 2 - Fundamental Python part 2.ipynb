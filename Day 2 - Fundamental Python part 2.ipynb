{
 "cells": [
  {
   "cell_type": "markdown",
   "id": "260d51bf",
   "metadata": {},
   "source": [
    "## STRING"
   ]
  },
  {
   "cell_type": "code",
   "execution_count": 1,
   "id": "a0453b51",
   "metadata": {},
   "outputs": [],
   "source": [
    "dt_string = \"The meaning of DEEP DIVE is an exhaustive investigation, study, or analysis of a question or topic.\""
   ]
  },
  {
   "cell_type": "code",
   "execution_count": 2,
   "id": "2d453fa1",
   "metadata": {},
   "outputs": [
    {
     "data": {
      "text/plain": [
       "str"
      ]
     },
     "execution_count": 2,
     "metadata": {},
     "output_type": "execute_result"
    }
   ],
   "source": [
    "type(dt_string)"
   ]
  },
  {
   "cell_type": "code",
   "execution_count": 6,
   "id": "dbfee804",
   "metadata": {},
   "outputs": [
    {
     "data": {
      "text/plain": [
       "'The mea'"
      ]
     },
     "execution_count": 6,
     "metadata": {},
     "output_type": "execute_result"
    }
   ],
   "source": [
    "dt_string[:7] #python slicing"
   ]
  },
  {
   "cell_type": "code",
   "execution_count": 12,
   "id": "fd8efc13",
   "metadata": {},
   "outputs": [
    {
     "data": {
      "text/plain": [
       "'topic.'"
      ]
     },
     "execution_count": 12,
     "metadata": {},
     "output_type": "execute_result"
    }
   ],
   "source": [
    "dt_string[-6:]"
   ]
  },
  {
   "cell_type": "markdown",
   "id": "7e0a1d58",
   "metadata": {},
   "source": [
    "Methods : instruction related to object"
   ]
  },
  {
   "cell_type": "code",
   "execution_count": 15,
   "id": "4912b63d",
   "metadata": {},
   "outputs": [
    {
     "data": {
      "text/plain": [
       "'THE MEANING OF DEEP DIVE IS AN EXHAUSTIVE INVESTIGATION, STUDY, OR ANALYSIS OF A QUESTION OR TOPIC.'"
      ]
     },
     "execution_count": 15,
     "metadata": {},
     "output_type": "execute_result"
    }
   ],
   "source": [
    "dt_string_upper = dt_string.upper() #.upper on variable dt_string is the example of st_string)\n",
    "dt_string_upper"
   ]
  },
  {
   "cell_type": "code",
   "execution_count": 16,
   "id": "025f640d",
   "metadata": {},
   "outputs": [
    {
     "data": {
      "text/plain": [
       "'the meaning of deep dive is an exhaustive investigation, study, or analysis of a question or topic.'"
      ]
     },
     "execution_count": 16,
     "metadata": {},
     "output_type": "execute_result"
    }
   ],
   "source": [
    "dt_string_lower = dt_string.lower()\n",
    "dt_string_lower"
   ]
  },
  {
   "cell_type": "code",
   "execution_count": 5,
   "id": "ce9cd437",
   "metadata": {},
   "outputs": [],
   "source": [
    "awal = \"The meaning of DEEP DIVE is an exhaustive investigation \""
   ]
  },
  {
   "cell_type": "code",
   "execution_count": 6,
   "id": "4fded0a7",
   "metadata": {},
   "outputs": [],
   "source": [
    "akhir = \"study, or analysis of a question or topic.\""
   ]
  },
  {
   "cell_type": "code",
   "execution_count": 23,
   "id": "b128584b",
   "metadata": {},
   "outputs": [],
   "source": [
    "dt_string_concatenation = awal + akhir"
   ]
  },
  {
   "cell_type": "code",
   "execution_count": 24,
   "id": "8ae831b5",
   "metadata": {},
   "outputs": [
    {
     "data": {
      "text/plain": [
       "'The meaning of DEEP DIVE is an exhaustive investigation study, or analysis of a question or topic.'"
      ]
     },
     "execution_count": 24,
     "metadata": {},
     "output_type": "execute_result"
    }
   ],
   "source": [
    "dt_string_concatenation #"
   ]
  },
  {
   "cell_type": "markdown",
   "id": "8a6bee5c",
   "metadata": {},
   "source": [
    "String format"
   ]
  },
  {
   "cell_type": "code",
   "execution_count": 3,
   "id": "d9154111",
   "metadata": {},
   "outputs": [
    {
     "name": "stdout",
     "output_type": "stream",
     "text": [
      "I am 23. what is yours?\n"
     ]
    }
   ],
   "source": [
    "myage = 23 \n",
    "print(f'I am {myage}. what is yours?')"
   ]
  },
  {
   "cell_type": "markdown",
   "id": "52edca53",
   "metadata": {},
   "source": [
    "String Methods coba coba"
   ]
  },
  {
   "cell_type": "code",
   "execution_count": 11,
   "id": "3da9db7e",
   "metadata": {},
   "outputs": [
    {
     "data": {
      "text/plain": [
       "'The meaning of deep dive is an exhaustive investigation '"
      ]
     },
     "execution_count": 11,
     "metadata": {},
     "output_type": "execute_result"
    }
   ],
   "source": [
    "a = awal.capitalize() # force first character to become kapital\n",
    "a"
   ]
  },
  {
   "cell_type": "code",
   "execution_count": 13,
   "id": "88ac8fa4",
   "metadata": {},
   "outputs": [
    {
     "data": {
      "text/plain": [
       "'the meaning of deep dive is an exhaustive investigation '"
      ]
     },
     "execution_count": 13,
     "metadata": {},
     "output_type": "execute_result"
    }
   ],
   "source": [
    "b = awal.casefold() #force lower case\n",
    "b"
   ]
  },
  {
   "cell_type": "code",
   "execution_count": 25,
   "id": "fccf4b49",
   "metadata": {},
   "outputs": [
    {
     "data": {
      "text/plain": [
       "1"
      ]
     },
     "execution_count": 25,
     "metadata": {},
     "output_type": "execute_result"
    }
   ],
   "source": [
    "c = awal.count(\"meaning\") #to count the targeted string\n",
    "c"
   ]
  },
  {
   "cell_type": "code",
   "execution_count": 26,
   "id": "2c18b839",
   "metadata": {},
   "outputs": [],
   "source": [
    "a = a.strip() #to trim string (delete unimportant spasi)"
   ]
  },
  {
   "cell_type": "code",
   "execution_count": 28,
   "id": "27578664",
   "metadata": {},
   "outputs": [
    {
     "data": {
      "text/plain": [
       "['The',\n",
       " 'meaning',\n",
       " 'of',\n",
       " 'deep',\n",
       " 'dive',\n",
       " 'is',\n",
       " 'an',\n",
       " 'exhaustive',\n",
       " 'investigation']"
      ]
     },
     "execution_count": 28,
     "metadata": {},
     "output_type": "execute_result"
    }
   ],
   "source": [
    "d = a.split(\" \") # i want to split string based on spasi\n",
    "d"
   ]
  },
  {
   "cell_type": "code",
   "execution_count": 30,
   "id": "edded48d",
   "metadata": {},
   "outputs": [
    {
     "data": {
      "text/plain": [
       "9"
      ]
     },
     "execution_count": 30,
     "metadata": {},
     "output_type": "execute_result"
    }
   ],
   "source": [
    "len(d) #to know how much syllables"
   ]
  },
  {
   "cell_type": "markdown",
   "id": "11389f4e",
   "metadata": {},
   "source": [
    "## BOOLEAN"
   ]
  },
  {
   "cell_type": "code",
   "execution_count": 32,
   "id": "3fc300b6",
   "metadata": {},
   "outputs": [
    {
     "name": "stdout",
     "output_type": "stream",
     "text": [
      "True\n",
      "False\n"
     ]
    }
   ],
   "source": [
    "x = 20\n",
    "y = 0\n",
    "\n",
    "print(bool(x))\n",
    "print(bool(y))"
   ]
  },
  {
   "cell_type": "markdown",
   "id": "f7e4530b",
   "metadata": {},
   "source": [
    "OPERATOR"
   ]
  },
  {
   "cell_type": "code",
   "execution_count": 33,
   "id": "1e257bc7",
   "metadata": {},
   "outputs": [],
   "source": [
    "x = 10\n",
    "y = 20\n",
    "z = 3"
   ]
  },
  {
   "cell_type": "code",
   "execution_count": 35,
   "id": "d687935b",
   "metadata": {},
   "outputs": [
    {
     "name": "stdout",
     "output_type": "stream",
     "text": [
      "30\n"
     ]
    }
   ],
   "source": [
    "print(x+y)"
   ]
  },
  {
   "cell_type": "code",
   "execution_count": 36,
   "id": "285bde13",
   "metadata": {},
   "outputs": [
    {
     "name": "stdout",
     "output_type": "stream",
     "text": [
      "-10\n"
     ]
    }
   ],
   "source": [
    "print(x-y)"
   ]
  },
  {
   "cell_type": "code",
   "execution_count": 37,
   "id": "75a0108e",
   "metadata": {},
   "outputs": [
    {
     "name": "stdout",
     "output_type": "stream",
     "text": [
      "200\n"
     ]
    }
   ],
   "source": [
    "print(x*y)"
   ]
  },
  {
   "cell_type": "code",
   "execution_count": 38,
   "id": "5dd01493",
   "metadata": {},
   "outputs": [
    {
     "name": "stdout",
     "output_type": "stream",
     "text": [
      "0.5\n"
     ]
    }
   ],
   "source": [
    "print(x/y)"
   ]
  },
  {
   "cell_type": "code",
   "execution_count": 41,
   "id": "e1dbd783",
   "metadata": {},
   "outputs": [
    {
     "name": "stdout",
     "output_type": "stream",
     "text": [
      "0\n"
     ]
    }
   ],
   "source": [
    "print(y%x)"
   ]
  },
  {
   "cell_type": "code",
   "execution_count": 42,
   "id": "e320a5bb",
   "metadata": {},
   "outputs": [
    {
     "name": "stdout",
     "output_type": "stream",
     "text": [
      "1000\n"
     ]
    }
   ],
   "source": [
    "print(x**z)"
   ]
  },
  {
   "cell_type": "code",
   "execution_count": 43,
   "id": "0ae7b59a",
   "metadata": {},
   "outputs": [
    {
     "name": "stdout",
     "output_type": "stream",
     "text": [
      "3\n"
     ]
    }
   ],
   "source": [
    "print(x//z)"
   ]
  },
  {
   "cell_type": "code",
   "execution_count": 46,
   "id": "db653e20",
   "metadata": {},
   "outputs": [],
   "source": [
    "x >>=3"
   ]
  },
  {
   "cell_type": "code",
   "execution_count": 47,
   "id": "60952a46",
   "metadata": {},
   "outputs": [
    {
     "data": {
      "text/plain": [
       "0"
      ]
     },
     "execution_count": 47,
     "metadata": {},
     "output_type": "execute_result"
    }
   ],
   "source": [
    "x"
   ]
  },
  {
   "cell_type": "markdown",
   "id": "149c5c7c",
   "metadata": {},
   "source": [
    "## LIST\n",
    "\n",
    "rule : \n",
    "\n",
    "1. ordered\n",
    "2. changeable\n",
    "3. allow duplicate"
   ]
  },
  {
   "cell_type": "code",
   "execution_count": 88,
   "id": "1ccd97d3",
   "metadata": {},
   "outputs": [],
   "source": [
    "fruits = [\"apple\", \"berry\", \"duku\", \"cherry\", \"duku\"]"
   ]
  },
  {
   "cell_type": "code",
   "execution_count": 54,
   "id": "ba7d6abe",
   "metadata": {},
   "outputs": [
    {
     "name": "stdout",
     "output_type": "stream",
     "text": [
      "['apple', 'berry', 'duku', 'cherry', 'duku']\n"
     ]
    }
   ],
   "source": [
    "print(fruits)"
   ]
  },
  {
   "cell_type": "code",
   "execution_count": 55,
   "id": "6acd1968",
   "metadata": {},
   "outputs": [
    {
     "data": {
      "text/plain": [
       "'cherry'"
      ]
     },
     "execution_count": 55,
     "metadata": {},
     "output_type": "execute_result"
    }
   ],
   "source": [
    "fruits[3]"
   ]
  },
  {
   "cell_type": "code",
   "execution_count": 56,
   "id": "0a3d6fe1",
   "metadata": {},
   "outputs": [
    {
     "data": {
      "text/plain": [
       "['duku']"
      ]
     },
     "execution_count": 56,
     "metadata": {},
     "output_type": "execute_result"
    }
   ],
   "source": [
    "fruits[2:3]"
   ]
  },
  {
   "cell_type": "code",
   "execution_count": 57,
   "id": "89ffe308",
   "metadata": {},
   "outputs": [
    {
     "data": {
      "text/plain": [
       "'cherry'"
      ]
     },
     "execution_count": 57,
     "metadata": {},
     "output_type": "execute_result"
    }
   ],
   "source": [
    "fruits[-2]"
   ]
  },
  {
   "cell_type": "code",
   "execution_count": 58,
   "id": "ac4c3448",
   "metadata": {},
   "outputs": [],
   "source": [
    "fruits[2] = \"orange\""
   ]
  },
  {
   "cell_type": "code",
   "execution_count": 85,
   "id": "d069ea75",
   "metadata": {},
   "outputs": [
    {
     "data": {
      "text/plain": [
       "['apple', 'melon', 'melon', 'orange', 'cherry', 'duku', 'grape']"
      ]
     },
     "execution_count": 85,
     "metadata": {},
     "output_type": "execute_result"
    }
   ],
   "source": [
    "fruits"
   ]
  },
  {
   "cell_type": "code",
   "execution_count": 62,
   "id": "ff9847f7",
   "metadata": {},
   "outputs": [
    {
     "data": {
      "text/plain": [
       "['apple', 'berry', 'orange', 'cherry', 'duku', 'grape', 'grape']"
      ]
     },
     "execution_count": 62,
     "metadata": {},
     "output_type": "execute_result"
    }
   ],
   "source": [
    "fruits.append(\"grape\")\n",
    "fruits"
   ]
  },
  {
   "cell_type": "code",
   "execution_count": 65,
   "id": "e60e6497",
   "metadata": {},
   "outputs": [
    {
     "data": {
      "text/plain": [
       "['apple',\n",
       " 'berry',\n",
       " 'melon',\n",
       " 'melon',\n",
       " 'melon',\n",
       " 'orange',\n",
       " 'cherry',\n",
       " 'duku',\n",
       " 'grape',\n",
       " 'grape']"
      ]
     },
     "execution_count": 65,
     "metadata": {},
     "output_type": "execute_result"
    }
   ],
   "source": [
    "fruits.insert(2, \"melon\") #add string with spesified index\n",
    "fruits"
   ]
  },
  {
   "cell_type": "code",
   "execution_count": 66,
   "id": "7be73860",
   "metadata": {},
   "outputs": [],
   "source": [
    "fruits.remove(\"grape\")"
   ]
  },
  {
   "cell_type": "code",
   "execution_count": 69,
   "id": "3dc1ff73",
   "metadata": {},
   "outputs": [
    {
     "data": {
      "text/plain": [
       "['apple', 'melon', 'melon', 'melon', 'orange', 'cherry', 'duku', 'grape']"
      ]
     },
     "execution_count": 69,
     "metadata": {},
     "output_type": "execute_result"
    }
   ],
   "source": [
    "fruits"
   ]
  },
  {
   "cell_type": "code",
   "execution_count": 70,
   "id": "e6ce868e",
   "metadata": {},
   "outputs": [
    {
     "data": {
      "text/plain": [
       "'melon'"
      ]
     },
     "execution_count": 70,
     "metadata": {},
     "output_type": "execute_result"
    }
   ],
   "source": [
    "fruits.pop(1) #remove with spesified index"
   ]
  },
  {
   "cell_type": "markdown",
   "id": "2548acaf",
   "metadata": {},
   "source": [
    "loop in list"
   ]
  },
  {
   "cell_type": "code",
   "execution_count": 74,
   "id": "fe2a93ec",
   "metadata": {},
   "outputs": [
    {
     "name": "stdout",
     "output_type": "stream",
     "text": [
      "apple\n",
      "melon\n",
      "melon\n",
      "orange\n",
      "cherry\n",
      "duku\n",
      "grape\n"
     ]
    }
   ],
   "source": [
    "for x in fruits:\n",
    "    print(x)"
   ]
  },
  {
   "cell_type": "code",
   "execution_count": 80,
   "id": "d92d45f4",
   "metadata": {},
   "outputs": [
    {
     "name": "stdout",
     "output_type": "stream",
     "text": [
      "['apple', 'melon', 'melon', 'orange', 'cherry', 'duku', 'grape']\n",
      "['apple', 'melon', 'melon', 'orange', 'cherry', 'duku', 'grape']\n",
      "['apple', 'melon', 'melon', 'orange', 'cherry', 'duku', 'grape']\n",
      "['apple', 'melon', 'melon', 'orange', 'cherry', 'duku', 'grape']\n",
      "['apple', 'melon', 'melon', 'orange', 'cherry', 'duku', 'grape']\n",
      "['apple', 'melon', 'melon', 'orange', 'cherry', 'duku', 'grape']\n",
      "['apple', 'melon', 'melon', 'orange', 'cherry', 'duku', 'grape']\n"
     ]
    }
   ],
   "source": [
    "for i in range(len(fruits)):\n",
    "    print(fruits)"
   ]
  },
  {
   "cell_type": "code",
   "execution_count": 89,
   "id": "3085d4e8",
   "metadata": {},
   "outputs": [],
   "source": [
    "newlist = [x for x in fruits if \"b\" in x]"
   ]
  },
  {
   "cell_type": "code",
   "execution_count": 90,
   "id": "78c89fac",
   "metadata": {},
   "outputs": [
    {
     "data": {
      "text/plain": [
       "['berry']"
      ]
     },
     "execution_count": 90,
     "metadata": {},
     "output_type": "execute_result"
    }
   ],
   "source": [
    "newlist"
   ]
  },
  {
   "cell_type": "markdown",
   "id": "7dcd134e",
   "metadata": {},
   "source": [
    "## TUPLE\n",
    "\n",
    "rule :\n",
    "\n",
    "1. Ordered\n",
    "2. Unchangeable\n",
    "3. Allow duplicate"
   ]
  },
  {
   "cell_type": "code",
   "execution_count": 94,
   "id": "a8a87360",
   "metadata": {},
   "outputs": [],
   "source": [
    "vege = (\"asparagus\", \"beetroot\", \"carrot\", \"kale\")"
   ]
  },
  {
   "cell_type": "code",
   "execution_count": 95,
   "id": "d9e9537a",
   "metadata": {},
   "outputs": [
    {
     "data": {
      "text/plain": [
       "tuple"
      ]
     },
     "execution_count": 95,
     "metadata": {},
     "output_type": "execute_result"
    }
   ],
   "source": [
    "type(vege)"
   ]
  },
  {
   "cell_type": "code",
   "execution_count": 99,
   "id": "3cf5bf78",
   "metadata": {},
   "outputs": [
    {
     "data": {
      "text/plain": [
       "'beetroot'"
      ]
     },
     "execution_count": 99,
     "metadata": {},
     "output_type": "execute_result"
    }
   ],
   "source": [
    "vege[1]"
   ]
  },
  {
   "cell_type": "code",
   "execution_count": 105,
   "id": "47c36eaa",
   "metadata": {},
   "outputs": [],
   "source": [
    "f = (\"garlic\",)"
   ]
  },
  {
   "cell_type": "code",
   "execution_count": 109,
   "id": "c7a3e79b",
   "metadata": {},
   "outputs": [],
   "source": [
    "vege = vege + f # to add values on tuple"
   ]
  },
  {
   "cell_type": "code",
   "execution_count": 110,
   "id": "97dc506d",
   "metadata": {},
   "outputs": [
    {
     "data": {
      "text/plain": [
       "('asparagus', 'beetroot', 'carrot', 'kale', 'garlic', 'garlic')"
      ]
     },
     "execution_count": 110,
     "metadata": {},
     "output_type": "execute_result"
    }
   ],
   "source": [
    "vege"
   ]
  },
  {
   "cell_type": "code",
   "execution_count": 113,
   "id": "06de16c1",
   "metadata": {},
   "outputs": [],
   "source": [
    "satu, dua, tiga, empat, lima, enam = vege"
   ]
  },
  {
   "cell_type": "code",
   "execution_count": 114,
   "id": "49d56583",
   "metadata": {},
   "outputs": [
    {
     "data": {
      "text/plain": [
       "'asparagus'"
      ]
     },
     "execution_count": 114,
     "metadata": {},
     "output_type": "execute_result"
    }
   ],
   "source": [
    "satu"
   ]
  },
  {
   "cell_type": "markdown",
   "id": "2e7d66e4",
   "metadata": {},
   "source": [
    "## SETS\n",
    "\n",
    "\n",
    "rule :\n",
    "\n",
    "1. Unordered\n",
    "2. Unchangeable\n",
    "3. Not allowed to duplicate"
   ]
  },
  {
   "cell_type": "code",
   "execution_count": 117,
   "id": "969f8545",
   "metadata": {},
   "outputs": [],
   "source": [
    "color = {\"red\", \"blue\", \"magenta\", \"pink\", \"black\"}"
   ]
  },
  {
   "cell_type": "code",
   "execution_count": 118,
   "id": "be03a0c3",
   "metadata": {},
   "outputs": [
    {
     "data": {
      "text/plain": [
       "{'black', 'blue', 'magenta', 'pink', 'red'}"
      ]
     },
     "execution_count": 118,
     "metadata": {},
     "output_type": "execute_result"
    }
   ],
   "source": [
    "color"
   ]
  },
  {
   "cell_type": "code",
   "execution_count": 119,
   "id": "729af48e",
   "metadata": {},
   "outputs": [],
   "source": [
    "color.add(\"yellow\") # add value on set"
   ]
  },
  {
   "cell_type": "code",
   "execution_count": 123,
   "id": "239b5a66",
   "metadata": {},
   "outputs": [
    {
     "data": {
      "text/plain": [
       "{'black', 'blue', 'green', 'magenta', 'pink', 'purple', 'red', 'yellow'}"
      ]
     },
     "execution_count": 123,
     "metadata": {},
     "output_type": "execute_result"
    }
   ],
   "source": [
    "color"
   ]
  },
  {
   "cell_type": "code",
   "execution_count": 127,
   "id": "838bae79",
   "metadata": {},
   "outputs": [],
   "source": [
    "color_2 = {\"green\", \"purple\"}"
   ]
  },
  {
   "cell_type": "code",
   "execution_count": 128,
   "id": "6e9675af",
   "metadata": {},
   "outputs": [],
   "source": [
    "color_3 = [\"nila\", \"jingga\"]"
   ]
  },
  {
   "cell_type": "code",
   "execution_count": 125,
   "id": "281d0f8d",
   "metadata": {},
   "outputs": [],
   "source": [
    "color.update(color_2)"
   ]
  },
  {
   "cell_type": "code",
   "execution_count": 130,
   "id": "9f407853",
   "metadata": {},
   "outputs": [
    {
     "data": {
      "text/plain": [
       "{'black',\n",
       " 'blue',\n",
       " 'green',\n",
       " 'jingga',\n",
       " 'magenta',\n",
       " 'nila',\n",
       " 'pink',\n",
       " 'purple',\n",
       " 'red',\n",
       " 'yellow'}"
      ]
     },
     "execution_count": 130,
     "metadata": {},
     "output_type": "execute_result"
    }
   ],
   "source": [
    "color"
   ]
  },
  {
   "cell_type": "code",
   "execution_count": 129,
   "id": "312606a6",
   "metadata": {},
   "outputs": [],
   "source": [
    "color.update(color_3)"
   ]
  },
  {
   "cell_type": "code",
   "execution_count": 131,
   "id": "3346de93",
   "metadata": {},
   "outputs": [],
   "source": [
    "color.remove(\"magenta\")"
   ]
  },
  {
   "cell_type": "markdown",
   "id": "7d5098fa",
   "metadata": {},
   "source": [
    "## DICTIONARY\n",
    "\n",
    "rule :\n",
    "\n",
    "1. Ordered (As of Python version 3.7, dictionaries are ordered. In Python 3.6 and earlier, dictionaries are unordered.)\n",
    "2. Changeable\n",
    "3. Not allowed duplicate"
   ]
  },
  {
   "cell_type": "code",
   "execution_count": 151,
   "id": "f0998464",
   "metadata": {},
   "outputs": [],
   "source": [
    "basket = {\"fruits\" : [\"apple\", \"melon\"], \"vege\" : \"carrot\", \"protein\" : \"tofu\"}"
   ]
  },
  {
   "cell_type": "code",
   "execution_count": 146,
   "id": "cff89f73",
   "metadata": {},
   "outputs": [
    {
     "name": "stdout",
     "output_type": "stream",
     "text": [
      "{'fruits': ['apple', 'melon'], 'vege': 'carrot', 'protein': 'tofu'}\n"
     ]
    }
   ],
   "source": [
    "print(basket)"
   ]
  },
  {
   "cell_type": "code",
   "execution_count": 147,
   "id": "d931a8ea",
   "metadata": {},
   "outputs": [
    {
     "data": {
      "text/plain": [
       "['apple', 'melon']"
      ]
     },
     "execution_count": 147,
     "metadata": {},
     "output_type": "execute_result"
    }
   ],
   "source": [
    "c = basket[\"fruits\"]\n",
    "c"
   ]
  },
  {
   "cell_type": "code",
   "execution_count": 153,
   "id": "5dbc8d29",
   "metadata": {},
   "outputs": [],
   "source": [
    "basket[\"vege\"] = \"kale\" #replace value"
   ]
  },
  {
   "cell_type": "code",
   "execution_count": 154,
   "id": "cdec17b4",
   "metadata": {},
   "outputs": [
    {
     "data": {
      "text/plain": [
       "{'fruits': ['apple', 'melon'], 'vege': 'kale', 'protein': 'tofu'}"
      ]
     },
     "execution_count": 154,
     "metadata": {},
     "output_type": "execute_result"
    }
   ],
   "source": [
    "basket"
   ]
  },
  {
   "cell_type": "code",
   "execution_count": 158,
   "id": "8849358e",
   "metadata": {},
   "outputs": [],
   "source": [
    "basket[\"fruits\"][1] = \"orange\" #replace value on of the multiple value"
   ]
  },
  {
   "cell_type": "code",
   "execution_count": 159,
   "id": "feb76c5b",
   "metadata": {},
   "outputs": [
    {
     "data": {
      "text/plain": [
       "{'fruits': ['apple', 'orange'], 'vege': 'kale', 'protein': 'tofu'}"
      ]
     },
     "execution_count": 159,
     "metadata": {},
     "output_type": "execute_result"
    }
   ],
   "source": [
    "basket"
   ]
  },
  {
   "cell_type": "code",
   "execution_count": 164,
   "id": "32aa0e5e",
   "metadata": {},
   "outputs": [],
   "source": [
    "basket[\"meat\"] = \"pork\" # add new key"
   ]
  },
  {
   "cell_type": "code",
   "execution_count": 165,
   "id": "75b3ebe1",
   "metadata": {},
   "outputs": [
    {
     "data": {
      "text/plain": [
       "{'fruits': ['apple', 'orange'],\n",
       " 'vege': 'kale',\n",
       " 'protein': 'tofu',\n",
       " 'meat': 'pork'}"
      ]
     },
     "execution_count": 165,
     "metadata": {},
     "output_type": "execute_result"
    }
   ],
   "source": [
    "basket"
   ]
  },
  {
   "cell_type": "code",
   "execution_count": 166,
   "id": "698c7f49",
   "metadata": {},
   "outputs": [
    {
     "data": {
      "text/plain": [
       "'pork'"
      ]
     },
     "execution_count": 166,
     "metadata": {},
     "output_type": "execute_result"
    }
   ],
   "source": [
    "basket.pop(\"meat\") # remove"
   ]
  },
  {
   "cell_type": "code",
   "execution_count": 167,
   "id": "6828f35d",
   "metadata": {},
   "outputs": [
    {
     "data": {
      "text/plain": [
       "{'fruits': ['apple', 'orange'], 'vege': 'kale', 'protein': 'tofu'}"
      ]
     },
     "execution_count": 167,
     "metadata": {},
     "output_type": "execute_result"
    }
   ],
   "source": [
    "basket"
   ]
  },
  {
   "cell_type": "markdown",
   "id": "14152421",
   "metadata": {},
   "source": [
    "NESTED DISCTIONARIES"
   ]
  },
  {
   "cell_type": "code",
   "execution_count": 169,
   "id": "c62026c0",
   "metadata": {},
   "outputs": [],
   "source": [
    "baskets = {\n",
    "    \"basket1\" :\n",
    "    {\"fruits\" : \"berry\",\n",
    "    \"vege\" : \"carrot\"\n",
    "    },\n",
    "    \"basket2\":\n",
    "    {\"fruits\" : \"apple\",\n",
    "    \"vege\" : \"brokoli\"}\n",
    "}"
   ]
  },
  {
   "cell_type": "code",
   "execution_count": 170,
   "id": "9bcae51a",
   "metadata": {},
   "outputs": [
    {
     "data": {
      "text/plain": [
       "{'basket1': {'fruits': 'berry', 'vege': 'carrot'},\n",
       " 'basket2': {'fruits': 'apple', 'vege': 'brokoli'}}"
      ]
     },
     "execution_count": 170,
     "metadata": {},
     "output_type": "execute_result"
    }
   ],
   "source": [
    "baskets"
   ]
  },
  {
   "cell_type": "code",
   "execution_count": 171,
   "id": "78805bff",
   "metadata": {},
   "outputs": [],
   "source": [
    "baskets.clear()"
   ]
  },
  {
   "cell_type": "code",
   "execution_count": 172,
   "id": "ad8f093c",
   "metadata": {},
   "outputs": [
    {
     "data": {
      "text/plain": [
       "{}"
      ]
     },
     "execution_count": 172,
     "metadata": {},
     "output_type": "execute_result"
    }
   ],
   "source": [
    "baskets"
   ]
  },
  {
   "cell_type": "code",
   "execution_count": null,
   "id": "5f7ea52b",
   "metadata": {},
   "outputs": [],
   "source": [
    "|"
   ]
  }
 ],
 "metadata": {
  "kernelspec": {
   "display_name": "Python 3",
   "language": "python",
   "name": "python3"
  },
  "language_info": {
   "codemirror_mode": {
    "name": "ipython",
    "version": 3
   },
   "file_extension": ".py",
   "mimetype": "text/x-python",
   "name": "python",
   "nbconvert_exporter": "python",
   "pygments_lexer": "ipython3",
   "version": "3.6.9"
  }
 },
 "nbformat": 4,
 "nbformat_minor": 5
}
