{
 "cells": [
  {
   "cell_type": "markdown",
   "id": "6cbb6a82",
   "metadata": {},
   "source": [
    "## Class and obeject "
   ]
  },
  {
   "cell_type": "code",
   "execution_count": 1,
   "id": "255632b5",
   "metadata": {},
   "outputs": [
    {
     "name": "stdout",
     "output_type": "stream",
     "text": [
      "4\n"
     ]
    }
   ],
   "source": [
    "class MyClass: #create class\n",
    "    n = int(input())\n",
    "    x = 5 + n"
   ]
  },
  {
   "cell_type": "code",
   "execution_count": 2,
   "id": "80ff5870",
   "metadata": {},
   "outputs": [
    {
     "name": "stdout",
     "output_type": "stream",
     "text": [
      "9\n"
     ]
    }
   ],
   "source": [
    "p = MyClass() #create object\n",
    "print(p.x)"
   ]
  },
  {
   "cell_type": "code",
   "execution_count": 3,
   "id": "e76108fe",
   "metadata": {},
   "outputs": [],
   "source": [
    "class basket:\n",
    "    def __init__(self, fruits, vege):\n",
    "        self.fruits = fruits\n",
    "        self.vege = vege\n",
    "a1 = basket('apple', 'brokoli')\n",
    "        "
   ]
  },
  {
   "cell_type": "code",
   "execution_count": 4,
   "id": "f00d4f30",
   "metadata": {},
   "outputs": [
    {
     "name": "stdout",
     "output_type": "stream",
     "text": [
      "apple\n",
      "brokoli\n"
     ]
    }
   ],
   "source": [
    "print(a1.fruits)\n",
    "print(a1.vege)"
   ]
  },
  {
   "cell_type": "code",
   "execution_count": 5,
   "id": "96a08300",
   "metadata": {},
   "outputs": [],
   "source": [
    "class basket:\n",
    "    fruits = None\n",
    "    vege = None\n",
    "\n",
    "basket1 = basket()\n",
    "basket1.fruits = \"apple\"\n",
    "basket1.vege = \"brokoli\"\n",
    "\n",
    "basket2 = basket()\n",
    "basket2.fruits = \"cerry\"\n",
    "basket2.vege = \"carrot\""
   ]
  },
  {
   "cell_type": "code",
   "execution_count": 6,
   "id": "30bdde4c",
   "metadata": {},
   "outputs": [
    {
     "name": "stdout",
     "output_type": "stream",
     "text": [
      "apple brokoli\n",
      "cerry carrot\n"
     ]
    }
   ],
   "source": [
    "print(basket1.fruits, basket1.vege)\n",
    "print(basket2.fruits, basket2.vege)"
   ]
  },
  {
   "cell_type": "code",
   "execution_count": 23,
   "id": "73e7b773",
   "metadata": {},
   "outputs": [],
   "source": [
    "class Kucing:\n",
    "    def __init__(self, warna, usia):\n",
    "        self.warna = warna\n",
    "        self.usia = usia\n",
    "\n",
    "class Mahasiswa:\n",
    "    def __init__(self, nama, asal, kucing):\n",
    "        self.nama = nama\n",
    "        self.asal = asal\n",
    "        self.kucing = kucing\n",
    "\n",
    "    def perkenalan(self):\n",
    "        print(f'Perkenalkan saya {self.nama} dari {self.asal}')\n",
    "        print(f'Saya memiliki kucing berwarna {self.kucing.warna} usia {self.kucing.usia}')"
   ]
  },
  {
   "cell_type": "code",
   "execution_count": 24,
   "id": "3f613d8c",
   "metadata": {},
   "outputs": [
    {
     "name": "stdout",
     "output_type": "stream",
     "text": [
      "Perkenalkan saya Deni dari Sidoarjo\n",
      "Saya memiliki kucing berwarna Merah usia 3 bulan\n"
     ]
    }
   ],
   "source": [
    "deni = Mahasiswa(\n",
    "    nama='Deni',\n",
    "    asal='Sidoarjo',\n",
    "    kucing=Kucing(\n",
    "        warna='Merah',\n",
    "        usia='3 bulan'\n",
    "    )\n",
    ")\n",
    "\n",
    "deni.perkenalan()"
   ]
  },
  {
   "cell_type": "code",
   "execution_count": 27,
   "id": "aead2c3f",
   "metadata": {},
   "outputs": [],
   "source": []
  },
  {
   "cell_type": "code",
   "execution_count": 28,
   "id": "b638f118",
   "metadata": {},
   "outputs": [],
   "source": [
    "just_library = Catalog(\n",
    "            judul = 'Percy Jackson and the Olympian',\n",
    "            author = 'Rick RIordan',\n",
    "            number = 'dua',\n",
    "            library = Library(\n",
    "                nama = 'not midnight library',\n",
    "                alamat = 'Surabya',\n",
    "            )\n",
    ")"
   ]
  },
  {
   "cell_type": "code",
   "execution_count": 29,
   "id": "001c8239",
   "metadata": {},
   "outputs": [
    {
     "ename": "AttributeError",
     "evalue": "'Catalog' object has no attribute 'Library'",
     "output_type": "error",
     "traceback": [
      "\u001b[0;31m---------------------------------------------------------------------------\u001b[0m",
      "\u001b[0;31mAttributeError\u001b[0m                            Traceback (most recent call last)",
      "\u001b[0;32m<ipython-input-29-00b9d180e1e0>\u001b[0m in \u001b[0;36m<module>\u001b[0;34m\u001b[0m\n\u001b[0;32m----> 1\u001b[0;31m \u001b[0mjust_library\u001b[0m\u001b[0;34m.\u001b[0m\u001b[0mintroduction\u001b[0m\u001b[0;34m(\u001b[0m\u001b[0;34m)\u001b[0m\u001b[0;34m\u001b[0m\u001b[0;34m\u001b[0m\u001b[0m\n\u001b[0m",
      "\u001b[0;32m<ipython-input-27-9cdd46bbc54b>\u001b[0m in \u001b[0;36mintroduction\u001b[0;34m(self)\u001b[0m\n\u001b[1;32m     12\u001b[0m \u001b[0;34m\u001b[0m\u001b[0m\n\u001b[1;32m     13\u001b[0m     \u001b[0;32mdef\u001b[0m \u001b[0mintroduction\u001b[0m\u001b[0;34m(\u001b[0m\u001b[0mself\u001b[0m\u001b[0;34m)\u001b[0m\u001b[0;34m:\u001b[0m\u001b[0;34m\u001b[0m\u001b[0;34m\u001b[0m\u001b[0m\n\u001b[0;32m---> 14\u001b[0;31m         \u001b[0mprint\u001b[0m\u001b[0;34m(\u001b[0m\u001b[0;34mf'I build {self.Library.nama} in {self.Library.alamat}'\u001b[0m\u001b[0;34m)\u001b[0m\u001b[0;34m\u001b[0m\u001b[0;34m\u001b[0m\u001b[0m\n\u001b[0m\u001b[1;32m     15\u001b[0m         \u001b[0mprint\u001b[0m\u001b[0;34m(\u001b[0m\u001b[0;34mf'one of the most book that I love is {self.judul} by {self.author} number {self.number}'\u001b[0m\u001b[0;34m)\u001b[0m\u001b[0;34m\u001b[0m\u001b[0;34m\u001b[0m\u001b[0m\n",
      "\u001b[0;31mAttributeError\u001b[0m: 'Catalog' object has no attribute 'Library'"
     ]
    }
   ],
   "source": [
    "just_library.introduction()"
   ]
  },
  {
   "cell_type": "code",
   "execution_count": 31,
   "id": "f7070b70",
   "metadata": {},
   "outputs": [],
   "source": [
    "class Catalog:\n",
    "    def __init__(self, judul, author, number):\n",
    "        self.judul = judul\n",
    "        self.author = author\n",
    "        self.number = number\n",
    "\n",
    "class Library:\n",
    "    def __init__(self, nama, alamat, catalog):\n",
    "        self.nama = nama\n",
    "        self.alamat = alamat\n",
    "        self.catalog = catalog\n",
    "\n",
    "    def introduction(self):\n",
    "        print(f'I build {self.nama} in {self.alamat}')\n",
    "        print(f'one of the most book that I love is {self.catalog.judul} by {self.catalog.author} number {self.catalog.number}')"
   ]
  },
  {
   "cell_type": "code",
   "execution_count": null,
   "id": "30b187b5",
   "metadata": {},
   "outputs": [],
   "source": [
    "just_lib = Library(\n",
    "        nama = 'Just Lib',\n",
    "        alamat = 'Surabaya',\n",
    "        catalog = Catalog(\n",
    "            judul = 'Percy Jackson and The Olympian',\n",
    "            author = 'Rick Riordan')\n",
    ")"
   ]
  }
 ],
 "metadata": {
  "kernelspec": {
   "display_name": "Python 3",
   "language": "python",
   "name": "python3"
  },
  "language_info": {
   "codemirror_mode": {
    "name": "ipython",
    "version": 3
   },
   "file_extension": ".py",
   "mimetype": "text/x-python",
   "name": "python",
   "nbconvert_exporter": "python",
   "pygments_lexer": "ipython3",
   "version": "3.6.9"
  }
 },
 "nbformat": 4,
 "nbformat_minor": 5
}
