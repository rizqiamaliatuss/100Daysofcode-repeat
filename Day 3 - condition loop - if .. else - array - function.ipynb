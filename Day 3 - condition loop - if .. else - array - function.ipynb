{
 "cells": [
  {
   "cell_type": "markdown",
   "id": "e9601ba8",
   "metadata": {},
   "source": [
    "# Python Conditions & If Statement"
   ]
  },
  {
   "cell_type": "markdown",
   "id": "6b56305f",
   "metadata": {},
   "source": [
    "## if... else"
   ]
  },
  {
   "cell_type": "code",
   "execution_count": 1,
   "id": "893dd583",
   "metadata": {},
   "outputs": [
    {
     "name": "stdout",
     "output_type": "stream",
     "text": [
      "10 lebih besar dibandingkan 5\n"
     ]
    }
   ],
   "source": [
    "a = 10\n",
    "b = 5\n",
    "\n",
    "if a > b:\n",
    "    print(f'{a} lebih besar dibandingkan {b}')"
   ]
  },
  {
   "cell_type": "markdown",
   "id": "d58dddab",
   "metadata": {},
   "source": [
    "## The while loop \n",
    "\n",
    "execute the statement as long as the conditions is True"
   ]
  },
  {
   "cell_type": "code",
   "execution_count": 5,
   "id": "088b3f19",
   "metadata": {},
   "outputs": [
    {
     "name": "stdout",
     "output_type": "stream",
     "text": [
      "5\n"
     ]
    }
   ],
   "source": [
    "while b <= 9:\n",
    "    print(b)\n",
    "    break #to stop the execution"
   ]
  },
  {
   "cell_type": "code",
   "execution_count": 4,
   "id": "1e0ea0c1",
   "metadata": {},
   "outputs": [
    {
     "name": "stdout",
     "output_type": "stream",
     "text": [
      "10 less than 20\n",
      "12 less than 20\n",
      "14 less than 20\n",
      "16 less than 20\n",
      "18 less than 20\n",
      "20 less than 20\n"
     ]
    }
   ],
   "source": [
    "while a <=20:\n",
    "    print(f'{a} less than 20')\n",
    "    a +=2"
   ]
  },
  {
   "cell_type": "markdown",
   "id": "b0ba3483",
   "metadata": {},
   "source": [
    "## The for loop\n",
    "\n",
    "used for iterating a sequence"
   ]
  },
  {
   "cell_type": "code",
   "execution_count": 9,
   "id": "6fc25edb",
   "metadata": {},
   "outputs": [
    {
     "name": "stdout",
     "output_type": "stream",
     "text": [
      "0\n",
      "1\n",
      "2\n",
      "3\n",
      "4\n",
      "5\n",
      "6\n",
      "7\n",
      "8\n",
      "9\n",
      "10\n",
      "11\n",
      "12\n",
      "13\n",
      "14\n",
      "15\n",
      "16\n",
      "17\n",
      "18\n",
      "19\n",
      "20\n",
      "21\n"
     ]
    }
   ],
   "source": [
    "for x in range(a):\n",
    "    print(x)"
   ]
  },
  {
   "cell_type": "code",
   "execution_count": 25,
   "id": "b50f7e11",
   "metadata": {},
   "outputs": [],
   "source": [
    "fruits = ['banana', 'papaya', 'berry', 'melon']"
   ]
  },
  {
   "cell_type": "code",
   "execution_count": 26,
   "id": "8c5319a8",
   "metadata": {},
   "outputs": [
    {
     "name": "stdout",
     "output_type": "stream",
     "text": [
      "banana\n"
     ]
    }
   ],
   "source": [
    "for x in fruits:\n",
    "    if x == \"banana\":\n",
    "        print(x)\n",
    "        break"
   ]
  },
  {
   "cell_type": "code",
   "execution_count": 27,
   "id": "666b3616",
   "metadata": {},
   "outputs": [
    {
     "name": "stdout",
     "output_type": "stream",
     "text": [
      "papaya\n",
      "berry\n",
      "melon\n"
     ]
    }
   ],
   "source": [
    "for x in fruits:\n",
    "    if x == \"banana\":\n",
    "        continue\n",
    "    print(x)"
   ]
  },
  {
   "cell_type": "markdown",
   "id": "e41b2492",
   "metadata": {},
   "source": [
    "### NESTED LOOPS"
   ]
  },
  {
   "cell_type": "code",
   "execution_count": 29,
   "id": "95dc3a88",
   "metadata": {},
   "outputs": [],
   "source": [
    "color = ['red', 'yellow', 'pink','black']"
   ]
  },
  {
   "cell_type": "code",
   "execution_count": 31,
   "id": "d616b0d3",
   "metadata": {},
   "outputs": [
    {
     "name": "stdout",
     "output_type": "stream",
     "text": [
      "banana red\n",
      "banana yellow\n",
      "banana pink\n",
      "banana black\n",
      "papaya red\n",
      "papaya yellow\n",
      "papaya pink\n",
      "papaya black\n",
      "berry red\n",
      "berry yellow\n",
      "berry pink\n",
      "berry black\n",
      "melon red\n",
      "melon yellow\n",
      "melon pink\n",
      "melon black\n"
     ]
    }
   ],
   "source": [
    "for x in fruits:\n",
    "    for y in color:\n",
    "        print(x,y)"
   ]
  },
  {
   "cell_type": "code",
   "execution_count": 33,
   "id": "d6510bac",
   "metadata": {},
   "outputs": [],
   "source": [
    "for y in color:\n",
    "    pass # loops can't be empy, so i can use pass to fill the loop with no content"
   ]
  },
  {
   "cell_type": "markdown",
   "id": "15c8d4b1",
   "metadata": {},
   "source": [
    "## FUNCTION"
   ]
  },
  {
   "cell_type": "code",
   "execution_count": 38,
   "id": "886100e3",
   "metadata": {},
   "outputs": [
    {
     "name": "stdout",
     "output_type": "stream",
     "text": [
      "there is fruits in basket\n"
     ]
    }
   ],
   "source": [
    "def fruits():\n",
    "    print('there is fruits in basket')\n",
    "    \n",
    "fruits()"
   ]
  },
  {
   "cell_type": "code",
   "execution_count": 44,
   "id": "b2eac467",
   "metadata": {},
   "outputs": [
    {
     "name": "stdout",
     "output_type": "stream",
     "text": [
      "ayo makan brokoli\n"
     ]
    }
   ],
   "source": [
    "def vege(namevege):\n",
    "    print('ayo makan ' + namevege)\n",
    "    \n",
    "vege('brokoli') "
   ]
  },
  {
   "cell_type": "code",
   "execution_count": 72,
   "id": "59830cae",
   "metadata": {},
   "outputs": [],
   "source": [
    "def velocityt(vo, a, t ):\n",
    "    velocity = vo + (a *t)\n",
    "    print(f'so the velocity of my car is {velocity}')\n",
    "    \n",
    "    return velocity"
   ]
  },
  {
   "cell_type": "code",
   "execution_count": 74,
   "id": "38940ccf",
   "metadata": {},
   "outputs": [
    {
     "name": "stdout",
     "output_type": "stream",
     "text": [
      "so the velocity of my car is 20.0\n"
     ]
    },
    {
     "data": {
      "text/plain": [
       "20.0"
      ]
     },
     "execution_count": 74,
     "metadata": {},
     "output_type": "execute_result"
    }
   ],
   "source": [
    "velocityt(3, 3.4, 5)"
   ]
  },
  {
   "cell_type": "code",
   "execution_count": 78,
   "id": "2e9889c5",
   "metadata": {},
   "outputs": [],
   "source": [
    "velocitytlambda = lambda vo, a, t : vo + (a*t)"
   ]
  },
  {
   "cell_type": "code",
   "execution_count": 81,
   "id": "a957f856",
   "metadata": {},
   "outputs": [
    {
     "name": "stdout",
     "output_type": "stream",
     "text": [
      "20.0\n"
     ]
    }
   ],
   "source": [
    "print(velocitytlambda(3, 3.4, 5))"
   ]
  },
  {
   "cell_type": "markdown",
   "id": "6101eae5",
   "metadata": {},
   "source": [
    "## ARRAY\n",
    "\n",
    "store multiple value in single variable. python does not have built-in support for arrar ( to work with array, i have to import numpy library)"
   ]
  },
  {
   "cell_type": "code",
   "execution_count": 88,
   "id": "2b0e0056",
   "metadata": {},
   "outputs": [],
   "source": [
    "fruits_arr = [\"apple\", \"berry\", \"papaya\", \"banana\"] # create array containing fruit name"
   ]
  },
  {
   "cell_type": "code",
   "execution_count": 87,
   "id": "92889b87",
   "metadata": {},
   "outputs": [
    {
     "data": {
      "text/plain": [
       "['apple', 'berry', 'papaya', 'banana']"
      ]
     },
     "execution_count": 87,
     "metadata": {},
     "output_type": "execute_result"
    }
   ],
   "source": [
    "fruits_arr"
   ]
  },
  {
   "cell_type": "markdown",
   "id": "fd8a4cf4",
   "metadata": {},
   "source": [
    "so here create python array by importing array module"
   ]
  },
  {
   "cell_type": "code",
   "execution_count": 90,
   "id": "35764e8c",
   "metadata": {},
   "outputs": [],
   "source": [
    "import array as arr"
   ]
  },
  {
   "cell_type": "code",
   "execution_count": 92,
   "id": "c235e57a",
   "metadata": {},
   "outputs": [],
   "source": [
    "a = arr.array('i', [2,3,4,5])"
   ]
  },
  {
   "cell_type": "code",
   "execution_count": 93,
   "id": "79bd69f1",
   "metadata": {},
   "outputs": [
    {
     "data": {
      "text/plain": [
       "array('i', [2, 3, 4, 5])"
      ]
     },
     "execution_count": 93,
     "metadata": {},
     "output_type": "execute_result"
    }
   ],
   "source": [
    "a"
   ]
  },
  {
   "cell_type": "code",
   "execution_count": 98,
   "id": "fb50283b",
   "metadata": {},
   "outputs": [
    {
     "name": "stdout",
     "output_type": "stream",
     "text": [
      "3\n",
      "4\n"
     ]
    }
   ],
   "source": [
    "for i in range(1,3):\n",
    "    print(a[i])"
   ]
  },
  {
   "cell_type": "code",
   "execution_count": null,
   "id": "5b7750d5",
   "metadata": {},
   "outputs": [],
   "source": []
  },
  {
   "cell_type": "code",
   "execution_count": null,
   "id": "fc74f23d",
   "metadata": {},
   "outputs": [],
   "source": []
  }
 ],
 "metadata": {
  "kernelspec": {
   "display_name": "Python 3",
   "language": "python",
   "name": "python3"
  },
  "language_info": {
   "codemirror_mode": {
    "name": "ipython",
    "version": 3
   },
   "file_extension": ".py",
   "mimetype": "text/x-python",
   "name": "python",
   "nbconvert_exporter": "python",
   "pygments_lexer": "ipython3",
   "version": "3.6.9"
  }
 },
 "nbformat": 4,
 "nbformat_minor": 5
}
