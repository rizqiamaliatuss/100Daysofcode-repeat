{
 "cells": [
  {
   "cell_type": "code",
   "execution_count": 5,
   "id": "970f8cc0",
   "metadata": {},
   "outputs": [
    {
     "name": "stdout",
     "output_type": "stream",
     "text": [
      "Hello! I started my 100 Days of code\n"
     ]
    }
   ],
   "source": [
    "print(\"Hello! I started my 100 Days of code\") # i am using comment"
   ]
  },
  {
   "cell_type": "markdown",
   "id": "c2c0e637",
   "metadata": {},
   "source": [
    "# Python Variables"
   ]
  },
  {
   "cell_type": "code",
   "execution_count": 7,
   "id": "0cb2f070",
   "metadata": {},
   "outputs": [
    {
     "name": "stdout",
     "output_type": "stream",
     "text": [
      "7 aku\n"
     ]
    }
   ],
   "source": [
    "x = 7\n",
    "y = \"aku\"\n",
    "print(x,y)"
   ]
  },
  {
   "cell_type": "code",
   "execution_count": 8,
   "id": "e1e3793b",
   "metadata": {},
   "outputs": [],
   "source": [
    "x = str(x) #casting data type of a variable"
   ]
  },
  {
   "cell_type": "code",
   "execution_count": 10,
   "id": "3f8b0e57",
   "metadata": {},
   "outputs": [],
   "source": [
    "x, y = 7, \"aku\" #multiple variables"
   ]
  },
  {
   "cell_type": "markdown",
   "id": "807307a1",
   "metadata": {},
   "source": [
    "# Data type"
   ]
  },
  {
   "cell_type": "markdown",
   "id": "3a3e9dcb",
   "metadata": {},
   "source": [
    "Text Type      :\tstr <br>\n",
    "Numeric Types  :\tint, float, complex <br>\n",
    "Sequence Types :\tlist, tuple, range <br>\n",
    "Mapping Type   :\tdict <br>\n",
    "Set Types      :\tset, frozenset <br>\n",
    "Boolean Type   :\tbool <br>\n",
    "Binary Types   :\tbytes, bytearray, memoryview <br>\n",
    "None Type      :\tNoneType <br>"
   ]
  },
  {
   "cell_type": "markdown",
   "id": "d86549ed",
   "metadata": {},
   "source": [
    "STRING"
   ]
  },
  {
   "cell_type": "code",
   "execution_count": 27,
   "id": "fc77d216",
   "metadata": {},
   "outputs": [
    {
     "data": {
      "text/plain": [
       "str"
      ]
     },
     "execution_count": 27,
     "metadata": {},
     "output_type": "execute_result"
    }
   ],
   "source": [
    "dt_string = \"aku\" \n",
    "type(dt_string)"
   ]
  },
  {
   "cell_type": "markdown",
   "id": "1449e116",
   "metadata": {},
   "source": [
    "### NUMERIC"
   ]
  },
  {
   "cell_type": "code",
   "execution_count": 28,
   "id": "ef6a67ee",
   "metadata": {},
   "outputs": [
    {
     "data": {
      "text/plain": [
       "int"
      ]
     },
     "execution_count": 28,
     "metadata": {},
     "output_type": "execute_result"
    }
   ],
   "source": [
    "dt_int = 2\n",
    "type(dt_int)"
   ]
  },
  {
   "cell_type": "code",
   "execution_count": 29,
   "id": "2cc94d17",
   "metadata": {},
   "outputs": [
    {
     "data": {
      "text/plain": [
       "float"
      ]
     },
     "execution_count": 29,
     "metadata": {},
     "output_type": "execute_result"
    }
   ],
   "source": [
    "dt_float = 2.5\n",
    "type(dt_float)"
   ]
  },
  {
   "cell_type": "code",
   "execution_count": 31,
   "id": "9550fbbb",
   "metadata": {},
   "outputs": [
    {
     "data": {
      "text/plain": [
       "complex"
      ]
     },
     "execution_count": 31,
     "metadata": {},
     "output_type": "execute_result"
    }
   ],
   "source": [
    "dt_complex = 7j\n",
    "type(dt_complex)"
   ]
  },
  {
   "cell_type": "markdown",
   "id": "46bc1907",
   "metadata": {},
   "source": [
    "### SEQUENCE"
   ]
  },
  {
   "cell_type": "code",
   "execution_count": 32,
   "id": "347a3a1b",
   "metadata": {},
   "outputs": [
    {
     "data": {
      "text/plain": [
       "range"
      ]
     },
     "execution_count": 32,
     "metadata": {},
     "output_type": "execute_result"
    }
   ],
   "source": [
    "dt_range = range(7)\n",
    "type(dt_range)"
   ]
  },
  {
   "cell_type": "code",
   "execution_count": 23,
   "id": "8331b298",
   "metadata": {},
   "outputs": [
    {
     "data": {
      "text/plain": [
       "list"
      ]
     },
     "execution_count": 23,
     "metadata": {},
     "output_type": "execute_result"
    }
   ],
   "source": [
    "dt_list = [\"aku\", \"kamu\", \"dia\", \"mereka\"]\n",
    "type(dt_list)"
   ]
  },
  {
   "cell_type": "code",
   "execution_count": 35,
   "id": "d3238940",
   "metadata": {},
   "outputs": [
    {
     "data": {
      "text/plain": [
       "tuple"
      ]
     },
     "execution_count": 35,
     "metadata": {},
     "output_type": "execute_result"
    }
   ],
   "source": [
    "dt_tuple = (\"aku\", \"kamu\", \"dia\", \"mereka\")\n",
    "type(dt_tuple)"
   ]
  },
  {
   "cell_type": "markdown",
   "id": "5bf532f7",
   "metadata": {},
   "source": [
    "### MAPPING"
   ]
  },
  {
   "cell_type": "code",
   "execution_count": 39,
   "id": "331e2478",
   "metadata": {},
   "outputs": [
    {
     "data": {
      "text/plain": [
       "dict"
      ]
     },
     "execution_count": 39,
     "metadata": {},
     "output_type": "execute_result"
    }
   ],
   "source": [
    "dt_dictionary = {\"aku\" : 1, \"kamu\" : 2, \"dia\" : 3, \"mereka\" : 4}\n",
    "type(dt_dictionary)"
   ]
  },
  {
   "cell_type": "markdown",
   "id": "e31bae19",
   "metadata": {},
   "source": [
    "### SET"
   ]
  },
  {
   "cell_type": "code",
   "execution_count": 40,
   "id": "8fc29a4d",
   "metadata": {},
   "outputs": [
    {
     "data": {
      "text/plain": [
       "set"
      ]
     },
     "execution_count": 40,
     "metadata": {},
     "output_type": "execute_result"
    }
   ],
   "source": [
    "dt_set = {\"aku\", \"kamu\", \"dia\", \"mereka\"}\n",
    "type(dt_set)"
   ]
  },
  {
   "cell_type": "markdown",
   "id": "2ee48f45",
   "metadata": {},
   "source": [
    "### BOOLEAN"
   ]
  },
  {
   "cell_type": "code",
   "execution_count": 42,
   "id": "863ce425",
   "metadata": {},
   "outputs": [
    {
     "data": {
      "text/plain": [
       "bool"
      ]
     },
     "execution_count": 42,
     "metadata": {},
     "output_type": "execute_result"
    }
   ],
   "source": [
    "dt_boolean = True #or False\n",
    "type(dt_boolean)"
   ]
  },
  {
   "cell_type": "code",
   "execution_count": 53,
   "id": "98ef71a1",
   "metadata": {},
   "outputs": [
    {
     "name": "stdout",
     "output_type": "stream",
     "text": [
      "y\n",
      "h\n",
      "h \n"
     ]
    }
   ],
   "source": [
    "aku = \"yeah it is me\"\n",
    "print(aku[0]) #like other programming languange, string in python is array\n",
    "print(aku[3])\n",
    "print(aku[3:5])"
   ]
  },
  {
   "cell_type": "code",
   "execution_count": 50,
   "id": "1bbb854f",
   "metadata": {},
   "outputs": [
    {
     "name": "stdout",
     "output_type": "stream",
     "text": [
      "13\n"
     ]
    }
   ],
   "source": [
    "print(len(aku)) # to get length of string"
   ]
  },
  {
   "cell_type": "code",
   "execution_count": 55,
   "id": "48b9a897",
   "metadata": {},
   "outputs": [
    {
     "name": "stdout",
     "output_type": "stream",
     "text": [
      "umurku 24\n"
     ]
    }
   ],
   "source": [
    "umur_ku = 24\n",
    "print(\"umurku \" + str(umur_ku))"
   ]
  },
  {
   "cell_type": "code",
   "execution_count": null,
   "id": "2efecaf8",
   "metadata": {},
   "outputs": [],
   "source": []
  }
 ],
 "metadata": {
  "kernelspec": {
   "display_name": "Python 3",
   "language": "python",
   "name": "python3"
  },
  "language_info": {
   "codemirror_mode": {
    "name": "ipython",
    "version": 3
   },
   "file_extension": ".py",
   "mimetype": "text/x-python",
   "name": "python",
   "nbconvert_exporter": "python",
   "pygments_lexer": "ipython3",
   "version": "3.6.9"
  }
 },
 "nbformat": 4,
 "nbformat_minor": 5
}
