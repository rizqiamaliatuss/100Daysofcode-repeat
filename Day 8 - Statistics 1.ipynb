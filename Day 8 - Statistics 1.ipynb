{
 "cells": [
  {
   "cell_type": "markdown",
   "id": "f536a566",
   "metadata": {},
   "source": [
    "# MEAN - MEDIAN - MODE "
   ]
  },
  {
   "cell_type": "markdown",
   "id": "ee86eddf",
   "metadata": {},
   "source": [
    "### MEAN"
   ]
  },
  {
   "cell_type": "code",
   "execution_count": 3,
   "id": "09777f7a",
   "metadata": {},
   "outputs": [
    {
     "data": {
      "text/plain": [
       "81.75"
      ]
     },
     "execution_count": 3,
     "metadata": {},
     "output_type": "execute_result"
    }
   ],
   "source": [
    "meann = (90+80+70+60+80+90+100+80+99+97+95+40)/ 12\n",
    "meann"
   ]
  },
  {
   "cell_type": "code",
   "execution_count": 4,
   "id": "4d745039",
   "metadata": {},
   "outputs": [],
   "source": [
    "import numpy as np\n",
    "from scipy import stats"
   ]
  },
  {
   "cell_type": "code",
   "execution_count": 8,
   "id": "c448ed4f",
   "metadata": {},
   "outputs": [],
   "source": [
    "grade = [90,80,70,60,80,90,100,80,99,97,95,90]"
   ]
  },
  {
   "cell_type": "code",
   "execution_count": 9,
   "id": "571aeea8",
   "metadata": {},
   "outputs": [],
   "source": [
    "x = np.mean(grade)"
   ]
  },
  {
   "cell_type": "code",
   "execution_count": 10,
   "id": "fea5a1c2",
   "metadata": {},
   "outputs": [
    {
     "name": "stdout",
     "output_type": "stream",
     "text": [
      "85.91666666666667\n"
     ]
    }
   ],
   "source": [
    "print(x)"
   ]
  },
  {
   "cell_type": "markdown",
   "id": "aa6b76a7",
   "metadata": {},
   "source": [
    "### MEDIAN"
   ]
  },
  {
   "cell_type": "code",
   "execution_count": 11,
   "id": "0a2f2266",
   "metadata": {},
   "outputs": [
    {
     "name": "stdout",
     "output_type": "stream",
     "text": [
      "90.0\n"
     ]
    }
   ],
   "source": [
    "y = np.median(grade)\n",
    "print(y)"
   ]
  },
  {
   "cell_type": "markdown",
   "id": "902b69b9",
   "metadata": {},
   "source": [
    "### MODE"
   ]
  },
  {
   "cell_type": "code",
   "execution_count": 12,
   "id": "f8af5c5c",
   "metadata": {},
   "outputs": [
    {
     "name": "stdout",
     "output_type": "stream",
     "text": [
      "90.0\n"
     ]
    }
   ],
   "source": [
    "z = stats.mode(grade)\n",
    "print(y)"
   ]
  },
  {
   "cell_type": "markdown",
   "id": "6e3b965a",
   "metadata": {},
   "source": [
    "# STANDART DEVIATION"
   ]
  },
  {
   "cell_type": "code",
   "execution_count": 13,
   "id": "dae67515",
   "metadata": {},
   "outputs": [
    {
     "name": "stdout",
     "output_type": "stream",
     "text": [
      "85.91666666666667\n"
     ]
    }
   ],
   "source": [
    "c = np.std(grade)\n",
    "print(x)"
   ]
  },
  {
   "cell_type": "markdown",
   "id": "438e5761",
   "metadata": {},
   "source": [
    "### Variance"
   ]
  },
  {
   "cell_type": "code",
   "execution_count": 14,
   "id": "22a058be",
   "metadata": {},
   "outputs": [
    {
     "name": "stdout",
     "output_type": "stream",
     "text": [
      "85.91666666666667\n"
     ]
    }
   ],
   "source": [
    "d = np.var(grade)\n",
    "print(x)"
   ]
  },
  {
   "cell_type": "markdown",
   "id": "07b989ce",
   "metadata": {},
   "source": [
    "## Percentile"
   ]
  },
  {
   "cell_type": "code",
   "execution_count": null,
   "id": "006ffc60",
   "metadata": {},
   "outputs": [],
   "source": []
  }
 ],
 "metadata": {
  "kernelspec": {
   "display_name": "Python 3",
   "language": "python",
   "name": "python3"
  },
  "language_info": {
   "codemirror_mode": {
    "name": "ipython",
    "version": 3
   },
   "file_extension": ".py",
   "mimetype": "text/x-python",
   "name": "python",
   "nbconvert_exporter": "python",
   "pygments_lexer": "ipython3",
   "version": "3.6.9"
  }
 },
 "nbformat": 4,
 "nbformat_minor": 5
}
