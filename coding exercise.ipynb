{
 "cells": [
  {
   "cell_type": "markdown",
   "id": "a881672f",
   "metadata": {},
   "source": [
    "## TASK 1\n"
   ]
  },
  {
   "cell_type": "markdown",
   "id": "689230af",
   "metadata": {},
   "source": [
    "Mini Challenge : Difficulty - Medium\n",
    "\n",
    "Question : \n",
    "\n",
    "Write an if... else code in Python to check whether a word is palindrome or not\n",
    "\n",
    "input  :'malam'\n",
    "output : 'malam' is a palindrome\n",
    "\n",
    "input  :'ABBA'\n",
    "output : 'ABBA' is a palindrome\n",
    "\n",
    "input  :'Python'\n",
    "output : 'Python' is a palindrome"
   ]
  },
  {
   "cell_type": "code",
   "execution_count": 38,
   "id": "a5be537d",
   "metadata": {},
   "outputs": [],
   "source": [
    "def checkpolindrome(c): \n",
    "    \n",
    "    c_lower = c.lower() \n",
    "    \"\"\"use lower() method to anticipate\n",
    "    the polindrome string but have different \n",
    "    case for example ABBa\"\"\"\n",
    "    \n",
    "    move_b = c_lower[::-1]\n",
    "    \"\"\" this part will make variable c move \n",
    "    backward\"\"\"\n",
    "    \n",
    "    if c_lower == move_b: #conditional statement to check polindrome or not\n",
    "        print(f'{c} is Polindrome')\n",
    "        \n",
    "    else:\n",
    "        print(f'{c} is not Polindrome')\n",
    "        "
   ]
  },
  {
   "cell_type": "code",
   "execution_count": 39,
   "id": "01aaba10",
   "metadata": {},
   "outputs": [
    {
     "name": "stdout",
     "output_type": "stream",
     "text": [
      "malam is Polindrome\n"
     ]
    }
   ],
   "source": [
    "checkpolindrome('malam')"
   ]
  },
  {
   "cell_type": "code",
   "execution_count": 35,
   "id": "e9dec98c",
   "metadata": {},
   "outputs": [
    {
     "name": "stdout",
     "output_type": "stream",
     "text": [
      "ABBA is Polindrome\n"
     ]
    }
   ],
   "source": [
    "checkpolindrome('ABBA')"
   ]
  },
  {
   "cell_type": "code",
   "execution_count": 36,
   "id": "5efce174",
   "metadata": {},
   "outputs": [
    {
     "name": "stdout",
     "output_type": "stream",
     "text": [
      "Python is not Polindrome\n"
     ]
    }
   ],
   "source": [
    "checkpolindrome('Python')"
   ]
  },
  {
   "cell_type": "code",
   "execution_count": 42,
   "id": "2f51282e",
   "metadata": {},
   "outputs": [
    {
     "name": "stdout",
     "output_type": "stream",
     "text": [
      "Abba is Polindrome\n"
     ]
    }
   ],
   "source": [
    "checkpolindrome('Abba') "
   ]
  },
  {
   "cell_type": "markdown",
   "id": "a4849190",
   "metadata": {},
   "source": [
    "### LAMPIRAN"
   ]
  },
  {
   "cell_type": "code",
   "execution_count": 6,
   "id": "9495d3ac",
   "metadata": {},
   "outputs": [
    {
     "name": "stdout",
     "output_type": "stream",
     "text": [
      "n\n",
      "o\n",
      "h\n",
      "t\n",
      "y\n",
      "p\n"
     ]
    }
   ],
   "source": [
    "# The String move backward\n",
    "d = 'python'\n",
    "g = d[::-1]\n",
    "\n",
    "for x in g:\n",
    "    print(x)"
   ]
  },
  {
   "cell_type": "markdown",
   "id": "223db6e1",
   "metadata": {},
   "source": [
    "## TASK 2"
   ]
  },
  {
   "cell_type": "markdown",
   "id": "ccbd7ee6",
   "metadata": {},
   "source": [
    "Pertanyaan :\n",
    "\n",
    "black_list_word = [‘andi’, ‘susi’, ‘bola’]\n",
    "\n",
    "1. kalimat: andi sedang makan nasi padang, output : ada black list word\n",
    "2. kalimat: sandi sedang makan bermain tenis, output : tidak ada black list word\n",
    "3. kalimat: andi dan sandi sedang makan, output : ada black list word\n",
    "4. kalimat: budi dan susi sedang makan, output : ada black list word\n",
    "5. kalimat: erna  sedang berenang, output : tidak ada black list word\n",
    "6. kalimat: raffa sedang makan bermain bola , output : ada black list word\n",
    "\n",
    "Tulislah code dalam python, dimana ketika diberikan inputan kalimat sesuai dengan kasus diatas maka outputnya adalah:<br>\n",
    "-ada black list word <br>\n",
    "-tidak ada black list word <br>\n",
    "\n",
    "tergantung apakah ada word yang di black list dalam satu kalimat\n",
    "\n",
    "\n",
    "\n",
    "\n",
    "\n"
   ]
  },
  {
   "cell_type": "code",
   "execution_count": 1,
   "id": "096d4a61",
   "metadata": {},
   "outputs": [],
   "source": [
    "def checkblacklist(b):\n",
    "    lb = len(b)\n",
    "    b = b.lower()\n",
    "    b = ' ' + b + ' '\n",
    "    d = [' andi ', ' susi ', ' bola ']\n",
    "    \n",
    "    if d[0] in b:\n",
    "        print('ada blacklist word')\n",
    "    elif d[1] in b:\n",
    "        print('ada blacklist word')\n",
    "    elif d[2] in b:\n",
    "        print('ada blacklist word')\n",
    "    else:\n",
    "        print(\"tidak ada blacklist word\")\n",
    "        \n",
    "        \"\"\" setelah run bagian ini, mohon untuk \n",
    "        melanjutkan ke line berikurnya\n",
    "        dan ketik kalimat yang akan di cek (kalimat diatas)\n",
    "        \"\"\""
   ]
  },
  {
   "cell_type": "code",
   "execution_count": 2,
   "id": "50ebf575",
   "metadata": {},
   "outputs": [
    {
     "name": "stdout",
     "output_type": "stream",
     "text": [
      "TITIM SUKA ANDI\n"
     ]
    }
   ],
   "source": [
    "b = input()"
   ]
  },
  {
   "cell_type": "code",
   "execution_count": 3,
   "id": "f5cad72d",
   "metadata": {},
   "outputs": [
    {
     "name": "stdout",
     "output_type": "stream",
     "text": [
      "ada blacklist word\n"
     ]
    }
   ],
   "source": [
    "checkblacklist(b)"
   ]
  },
  {
   "cell_type": "markdown",
   "id": "23c4a72c",
   "metadata": {},
   "source": [
    "## Ada pertanyaan :\n",
    "(Ini bukan jawaban dari Task 2)\n",
    "\n",
    "\n",
    "Kak, kan sebelumnya saya pakai logic seperti dibawah : jadi saya menggunakan or (akan bernilai True jika salah satu nya True), tapi kan harus nya akan bernilai False kalau semuanya False.\n",
    "Tetapi ketika saya coba untuk non blacklist word, hasilnya True.\n",
    "\n",
    "apakah saya tidak bisa memakai or dlam kasus seperti ini atau ada rule lain?\n",
    "\n",
    "kindly reply pertanyaan ku ya kak. lewat ka Isya atau kak Chaira juga gapapa ka. Thank you"
   ]
  },
  {
   "cell_type": "code",
   "execution_count": 43,
   "id": "fa6fc09f",
   "metadata": {},
   "outputs": [],
   "source": [
    "def checkblacklist(a):\n",
    "    a = a.lower()\n",
    "    \n",
    "    if ' andi ' or ' susi ' or ' bola ' in a:\n",
    "        print('ada blacklist word')\n",
    "    else:\n",
    "        print('tidak ada blacklist word')"
   ]
  },
  {
   "cell_type": "code",
   "execution_count": 45,
   "id": "6a35b961",
   "metadata": {},
   "outputs": [
    {
     "name": "stdout",
     "output_type": "stream",
     "text": [
      "erna sedang berenang\n"
     ]
    }
   ],
   "source": [
    "a = input()"
   ]
  },
  {
   "cell_type": "code",
   "execution_count": 46,
   "id": "4b7d3e1c",
   "metadata": {},
   "outputs": [
    {
     "name": "stdout",
     "output_type": "stream",
     "text": [
      "ada blacklist word\n"
     ]
    }
   ],
   "source": [
    "checkblacklist(a)"
   ]
  }
 ],
 "metadata": {
  "kernelspec": {
   "display_name": "Python 3",
   "language": "python",
   "name": "python3"
  },
  "language_info": {
   "codemirror_mode": {
    "name": "ipython",
    "version": 3
   },
   "file_extension": ".py",
   "mimetype": "text/x-python",
   "name": "python",
   "nbconvert_exporter": "python",
   "pygments_lexer": "ipython3",
   "version": "3.6.9"
  }
 },
 "nbformat": 4,
 "nbformat_minor": 5
}
