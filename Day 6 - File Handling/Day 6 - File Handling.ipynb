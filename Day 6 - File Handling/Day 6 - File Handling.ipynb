{
 "cells": [
  {
   "cell_type": "markdown",
   "id": "534b804a",
   "metadata": {},
   "source": [
    "# File Handling\n",
    "\n",
    "\"r\" - Read - Default value. Opens a file for reading, error if the file does not exist\n",
    "\n",
    "\"a\" - Append - Opens a file for appending, creates the file if it does not exist\n",
    "\n",
    "\"w\" - Write - Opens a file for writing, creates the file if it does not exist\n",
    "\n",
    "\"x\" - Create - Creates the specified file, returns an error if the file exists"
   ]
  },
  {
   "cell_type": "markdown",
   "id": "f159fd0b",
   "metadata": {},
   "source": [
    "# READ"
   ]
  },
  {
   "cell_type": "code",
   "execution_count": 17,
   "id": "a5386ea9",
   "metadata": {},
   "outputs": [],
   "source": [
    "f = open(\"coba.txt\", \"rt\")"
   ]
  },
  {
   "cell_type": "code",
   "execution_count": 13,
   "id": "43fcf3c1",
   "metadata": {},
   "outputs": [
    {
     "data": {
      "text/plain": [
       "<_io.TextIOWrapper name='coba.txt' mode='rt' encoding='UTF-8'>"
      ]
     },
     "execution_count": 13,
     "metadata": {},
     "output_type": "execute_result"
    }
   ],
   "source": [
    "f"
   ]
  },
  {
   "cell_type": "code",
   "execution_count": 14,
   "id": "a1cda2e9",
   "metadata": {},
   "outputs": [
    {
     "name": "stdout",
     "output_type": "stream",
     "text": [
      "oke aku coba\n",
      "\n"
     ]
    }
   ],
   "source": [
    "print(f.read()) # to read"
   ]
  },
  {
   "cell_type": "code",
   "execution_count": 19,
   "id": "09206d99",
   "metadata": {},
   "outputs": [
    {
     "name": "stdout",
     "output_type": "stream",
     "text": [
      "ku coba\n",
      "\n"
     ]
    }
   ],
   "source": [
    "print(f.readline()) "
   ]
  },
  {
   "cell_type": "code",
   "execution_count": 20,
   "id": "283ecafb",
   "metadata": {},
   "outputs": [
    {
     "data": {
      "text/plain": [
       "<function TextIOWrapper.close()>"
      ]
     },
     "execution_count": 20,
     "metadata": {},
     "output_type": "execute_result"
    }
   ],
   "source": [
    "f.close"
   ]
  },
  {
   "cell_type": "code",
   "execution_count": 21,
   "id": "04b43315",
   "metadata": {},
   "outputs": [
    {
     "data": {
      "text/plain": [
       "<_io.TextIOWrapper name='coba.txt' mode='rt' encoding='UTF-8'>"
      ]
     },
     "execution_count": 21,
     "metadata": {},
     "output_type": "execute_result"
    }
   ],
   "source": [
    "f"
   ]
  },
  {
   "cell_type": "markdown",
   "id": "9d1a2155",
   "metadata": {},
   "source": [
    "# WRITE"
   ]
  },
  {
   "cell_type": "code",
   "execution_count": 37,
   "id": "7a49c75f",
   "metadata": {},
   "outputs": [
    {
     "name": "stdout",
     "output_type": "stream",
     "text": [
      "oke coba appendoke coba appendoke coba appendoke coba append\n"
     ]
    }
   ],
   "source": [
    "f = open(\"coba2.txt\", \"a\") #append or add content file\n",
    "f.write(\"oke coba append\")\n",
    "\n",
    "f.close()\n",
    "f = open(\"coba2.txt\", \"r\")\n",
    "print(f.read())"
   ]
  },
  {
   "cell_type": "code",
   "execution_count": 38,
   "id": "5755cd88",
   "metadata": {},
   "outputs": [
    {
     "name": "stdout",
     "output_type": "stream",
     "text": [
      "oke aku coba nulis, content sebelumnya akan hilang\n"
     ]
    }
   ],
   "source": [
    "f = open(\"coba3.txt\", \"w\") #write file\n",
    "f.write(\"oke aku coba nulis, content sebelumnya akan hilang\")\n",
    "\n",
    "f.close()\n",
    "f = open(\"coba3.txt\", \"r\")\n",
    "print(f.read())"
   ]
  },
  {
   "cell_type": "code",
   "execution_count": 50,
   "id": "9439da65",
   "metadata": {},
   "outputs": [],
   "source": [
    "f = open(\"bikinfile.txt\", \"x\") #create file"
   ]
  },
  {
   "cell_type": "code",
   "execution_count": 47,
   "id": "3cc9be70",
   "metadata": {},
   "outputs": [
    {
     "data": {
      "text/plain": [
       "8"
      ]
     },
     "execution_count": 47,
     "metadata": {},
     "output_type": "execute_result"
    }
   ],
   "source": [
    "f = open(\"bikinfile.txt\", \"w\")\n",
    "f.write(\"oke coba\")"
   ]
  },
  {
   "cell_type": "code",
   "execution_count": 48,
   "id": "7bee01e2",
   "metadata": {},
   "outputs": [],
   "source": [
    "import os # delete file\n",
    "os.remove(\"bikinfile.txt\")"
   ]
  },
  {
   "cell_type": "code",
   "execution_count": 51,
   "id": "45810567",
   "metadata": {},
   "outputs": [],
   "source": [
    "import os\n",
    "if os.path.exists(\"bikinfile.txt\"):\n",
    "  os.remove(\"bikinfile.txt\")\n",
    "else:\n",
    "  print(\"The file does not exist\")"
   ]
  },
  {
   "cell_type": "code",
   "execution_count": 52,
   "id": "88b5c29b",
   "metadata": {},
   "outputs": [
    {
     "name": "stdout",
     "output_type": "stream",
     "text": [
      "[1, 3]\n"
     ]
    }
   ],
   "source": [
    "num_list = [1,2,3]\n",
    "num_list.remove(2)\n",
    "print(num_list)"
   ]
  },
  {
   "cell_type": "code",
   "execution_count": null,
   "id": "b631d3e1",
   "metadata": {},
   "outputs": [],
   "source": []
  }
 ],
 "metadata": {
  "kernelspec": {
   "display_name": "Python 3",
   "language": "python",
   "name": "python3"
  },
  "language_info": {
   "codemirror_mode": {
    "name": "ipython",
    "version": 3
   },
   "file_extension": ".py",
   "mimetype": "text/x-python",
   "name": "python",
   "nbconvert_exporter": "python",
   "pygments_lexer": "ipython3",
   "version": "3.6.9"
  }
 },
 "nbformat": 4,
 "nbformat_minor": 5
}
